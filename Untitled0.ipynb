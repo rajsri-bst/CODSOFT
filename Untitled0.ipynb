{
  "nbformat": 4,
  "nbformat_minor": 0,
  "metadata": {
    "colab": {
      "provenance": [],
      "authorship_tag": "ABX9TyNT6t5JHYCu/Ocn327VQIcX",
      "include_colab_link": true
    },
    "kernelspec": {
      "name": "python3",
      "display_name": "Python 3"
    },
    "language_info": {
      "name": "python"
    }
  },
  "cells": [
    {
      "cell_type": "markdown",
      "metadata": {
        "id": "view-in-github",
        "colab_type": "text"
      },
      "source": [
        "<a href=\"https://colab.research.google.com/github/rajsri-bst/CODSOFT/blob/main/Untitled0.ipynb\" target=\"_parent\"><img src=\"https://colab.research.google.com/assets/colab-badge.svg\" alt=\"Open In Colab\"/></a>"
      ]
    },
    {
      "cell_type": "code",
      "execution_count": 2,
      "metadata": {
        "colab": {
          "base_uri": "https://localhost:8080/"
        },
        "id": "udF6V9gwPM0i",
        "outputId": "a67002a7-2d02-422f-94e9-62ab76bf11e7"
      },
      "outputs": [
        {
          "output_type": "stream",
          "name": "stdout",
          "text": [
            "Collecting docx2txt\n",
            "  Downloading docx2txt-0.8.tar.gz (2.8 kB)\n",
            "  Preparing metadata (setup.py) ... \u001b[?25l\u001b[?25hdone\n",
            "Building wheels for collected packages: docx2txt\n",
            "  Building wheel for docx2txt (setup.py) ... \u001b[?25l\u001b[?25hdone\n",
            "  Created wheel for docx2txt: filename=docx2txt-0.8-py3-none-any.whl size=3960 sha256=fea12c10bc7230fd75cbea9f0f0ca02bbb6a34af60e936bc383a78e0f22442f9\n",
            "  Stored in directory: /root/.cache/pip/wheels/22/58/cf/093d0a6c3ecfdfc5f6ddd5524043b88e59a9a199cb02352966\n",
            "Successfully built docx2txt\n",
            "Installing collected packages: docx2txt\n",
            "Successfully installed docx2txt-0.8\n"
          ]
        }
      ],
      "source": [
        "!pip install docx2txt\n",
        "import docx2txt"
      ]
    },
    {
      "cell_type": "markdown",
      "source": [],
      "metadata": {
        "id": "hE5LT1UsQgkU"
      }
    },
    {
      "cell_type": "code",
      "source": [
        "job_descrription=docx2txt.process('/content/web-developer-resume-example.docx')\n",
        "resume=docx2txt.process('/content/Raj_Resume.docx')"
      ],
      "metadata": {
        "id": "tdYHO9HzQhoP"
      },
      "execution_count": 4,
      "outputs": []
    },
    {
      "cell_type": "code",
      "source": [
        "print(resume)"
      ],
      "metadata": {
        "colab": {
          "base_uri": "https://localhost:8080/"
        },
        "id": "h8igUEhaTVVI",
        "outputId": "3aaa2a36-f5ea-456a-fc59-8a88057cf792"
      },
      "execution_count": 5,
      "outputs": [
        {
          "output_type": "stream",
          "name": "stdout",
          "text": [
            "I'm computer science student , passionate about programming and development , seeking to leverage acquired knowledge and skills effectively . I'm adaptive and fast learner , eager to learn new technologies and apply them to impact real world problems.\n",
            "\n",
            "\n",
            "\n",
            "Education\n",
            "\n",
            "\n",
            "\n",
            "Technocrats Institute of Technology , Bhopal\n",
            "\n",
            "B. Tech ,Artificial Intelligence and Machine Learning\n",
            "\n",
            "Unique Science Academy ,Basti\n",
            "\n",
            "Intermediate\n",
            "\n",
            "Unique Science Academy ,Basti\n",
            "\n",
            "High School\n",
            "\n",
            "\n",
            "\n",
            "\n",
            "\n",
            "Project\n",
            "\n",
            " Voice Recognizer Assistant\n",
            "\n",
            "This project can perform a operation that a user want such as it play song,jokes and perform calulation.We can give command for operation like we do in Alexa .\n",
            "\n",
            " Integrated Development Environment\n",
            "\n",
            "This project can be used to provide an environment that is suitable for compiling a python code.It perform some operation like it run a program and save code like we do in Visual Studio etc.\n",
            "\n",
            " Audiobook\n",
            "\n",
            "This project takes input as pdf format and after compiling it can give output by reading it line by line.\n",
            "\n",
            "\n",
            "2022-25\n",
            "\n",
            "9 CGPA\n",
            "\n",
            "2020-21\n",
            "\n",
            "83.4%\n",
            "\n",
            "2019-20\n",
            "\n",
            "86 %\n",
            "\n",
            "\n",
            "\n",
            "\n",
            "\n",
            "Raj Srivastav\n",
            "\n",
            "Software Engineer\n",
            "\n",
            "Contact\n",
            "\n",
            "7080666003\n",
            "\n",
            "rajsri.bst@gmail.com\n",
            "\n",
            "Basti Uttar Pradesh 272001\n",
            "\n",
            "Skills\n",
            "\n",
            "Python C++\n",
            "\n",
            "Data Structure\n",
            "\n",
            "OOPs C\n",
            "\n",
            "Communication\n",
            "\n",
            "Intrests and Hobbies\n",
            "\n",
            "Cricket Cooking Travelling Photography\n",
            "\n",
            "Languages\n",
            "\n",
            "English Hindi\n",
            "\n",
            "Raj Srivastav\n",
            "\n",
            "Software Engineer\n",
            "\n",
            "Contact\n",
            "\n",
            "7080666003\n",
            "\n",
            "rajsri.bst@gmail.com\n",
            "\n",
            "Basti Uttar Pradesh 272001\n",
            "\n",
            "Skills\n",
            "\n",
            "Python C++\n",
            "\n",
            "Data Structure\n",
            "\n",
            "OOPs C\n",
            "\n",
            "Communication\n",
            "\n",
            "Intrests and Hobbies\n",
            "\n",
            "Cricket Cooking Travelling Photography\n",
            "\n",
            "Languages\n",
            "\n",
            "English Hindi\n",
            "\n",
            "\n",
            "\n",
            "\n",
            "\n",
            "\n",
            "\n",
            "\n",
            "\n",
            "Certificate\n",
            "\n",
            " Certified in python by Sololearn.\n",
            "\n",
            " Certified in C++ Data structure by devtown.  Certified in Machine Learning by devtown.\n",
            "\n",
            "\n",
            "\n",
            "Programming Platform\n",
            "\n",
            " Solved around 300 + on Codechef.  Solved around 100+ on Leetcode.  Active on Hackerearth.\n"
          ]
        }
      ]
    },
    {
      "cell_type": "code",
      "source": [
        "content=[job_descrription,resume]"
      ],
      "metadata": {
        "id": "zJKCBxtDTfOn"
      },
      "execution_count": 6,
      "outputs": []
    },
    {
      "cell_type": "code",
      "source": [
        "from sklearn.feature_extraction.text import CountVectorizer\n",
        "cv=CountVectorizer()\n",
        "matrix=cv.fit_transform(content)"
      ],
      "metadata": {
        "id": "UcwqXKGlTrIR"
      },
      "execution_count": 8,
      "outputs": []
    },
    {
      "cell_type": "code",
      "source": [
        "from sklearn.metrics.pairwise import cosine_similarity\n",
        "similarity_matrix=cosine_similarity(matrix)"
      ],
      "metadata": {
        "id": "mi_0pd10UcIa"
      },
      "execution_count": 9,
      "outputs": []
    },
    {
      "cell_type": "code",
      "source": [
        "print(similarity_matrix)"
      ],
      "metadata": {
        "colab": {
          "base_uri": "https://localhost:8080/"
        },
        "id": "7RVD4LsZU89M",
        "outputId": "d3ec3f14-4d91-41b5-8f5b-8ff1fa960c87"
      },
      "execution_count": 10,
      "outputs": [
        {
          "output_type": "stream",
          "name": "stdout",
          "text": [
            "[[1.         0.41753709]\n",
            " [0.41753709 1.        ]]\n"
          ]
        }
      ]
    },
    {
      "cell_type": "code",
      "source": [
        "print('Resume matches by:'+ str(similarity_matrix[1][0]*100)+'%')"
      ],
      "metadata": {
        "colab": {
          "base_uri": "https://localhost:8080/"
        },
        "id": "GzfUtYxRVGRA",
        "outputId": "e0270ef7-5678-4750-f26f-1daf9af13fda"
      },
      "execution_count": 14,
      "outputs": [
        {
          "output_type": "stream",
          "name": "stdout",
          "text": [
            "Resume matches by:41.7537093847246%\n"
          ]
        }
      ]
    }
  ]
}